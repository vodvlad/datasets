{
  "nbformat": 4,
  "nbformat_minor": 0,
  "metadata": {
    "colab": {
      "name": "NN_Vladyslav_Vodopianov.ipynb",
      "provenance": []
    },
    "kernelspec": {
      "name": "python3",
      "display_name": "Python 3"
    }
  },
  "cells": [
    {
      "cell_type": "markdown",
      "metadata": {
        "id": "zyhPQzkFlaJY"
      },
      "source": [
        "# **Neural network based on the Сovid database**\r\n",
        "\r\n",
        "> Vladyslav Vodopianov\r\n",
        "\r\n",
        "---\r\n",
        "Neurónová sieť vytvorená na dátovom súbore covid na výpočet pravdepodobnosti smrti na základe symptómov, veku a pohlavia.\r\n",
        "\r\n",
        "**1.** Najskôr inicializujeme knižnice python.\r\n",
        "\r\n",
        "   * **pandas** - ľahko použiteľný nástroj na analýzu a spracovanie údajov\r\n",
        "\r\n",
        "   * **keras** - knižnica pre vytváranie samotnej neurónovej siete\r\n",
        "\r\n",
        "   * **numpy** - na vektorizáciu, indexáciu a vysielanie\r\n",
        "\r\n",
        "**2.** Načítava sa databáza.\r\n",
        "\r\n",
        "**3.** Vymazanie množiny údajov od nepotrebných údajov a prevod informácií do správnej formy. \r\n",
        "máme 5 stĺpcov ako text. Musíme ich previesť na čísla. Napríklad „**ÁNO**“ - 1, „**NIE**“ - 0. V prípade pohlavia, budeme mať „**Muž**“ - 0, „**Žena**“ - 1.\r\n",
        "V prípade veku vytvoríme pole 3 hodnôt. „**Mladý**“ - [ 1, 0, 0], „**Dospelý**“ - [ 0, 1, 0], „**Starší ľudia**“ - [ 0, 0, 1].\r\n",
        "\r\n",
        "**4.** Rozdelenie súboru údajov na účely školenia a testovania.\r\n",
        "Na školenie slúži posledných 250 vstupov a výstupov. Najprv 250, použitých na testovanie\r\n",
        "\r\n",
        "**5.**Nastavenie a výcvik neurónovej siete na cvičných dátach.\r\n",
        "Inicializujeme neurónovú sieť. Vytvorte 7 vstupov a jeden výstup. Používame metódu relu max(0, z) a metódu sigma. pri tréningu používame v mojom prípade 1 000 epoch.\r\n",
        "\r\n",
        "**6.**Testovanie neurónovej siete na testovacích dátach\r\n",
        "\r\n",
        "\r\n",
        "\r\n",
        "\r\n",
        "\r\n",
        "\r\n",
        "\r\n",
        "\r\n",
        "\r\n"
      ]
    },
    {
      "cell_type": "markdown",
      "metadata": {
        "id": "0NDMa93vh4ao"
      },
      "source": [
        "Инициализация библиотек\r\n",
        "\r\n",
        "Library initialization"
      ]
    },
    {
      "cell_type": "code",
      "metadata": {
        "id": "zak6WfaXgecf"
      },
      "source": [
        "import keras as k\r\n",
        "import pandas as pd\r\n",
        "import numpy as np"
      ],
      "execution_count": 104,
      "outputs": []
    },
    {
      "cell_type": "markdown",
      "metadata": {
        "id": "lYxsCH-qm35X"
      },
      "source": [
        ""
      ]
    },
    {
      "cell_type": "markdown",
      "metadata": {
        "id": "hx7TC2Tsh8-a"
      },
      "source": [
        "Загрузка базы данных\r\n",
        "\r\n",
        "Loading the database"
      ]
    },
    {
      "cell_type": "code",
      "metadata": {
        "id": "IO7Sm5Fxftep"
      },
      "source": [
        "data_spis = pd.read_csv(\"https://raw.githubusercontent.com/vodvlad/datasets/main/covid.csv\") \r\n",
        "\r\n",
        "input_names = [\"sex\", \"age\", \"cough\", \"body temperature\", \"taste and smell\"] \r\n",
        "output_names = [\"dead\"]\r\n",
        "#print(data_spis)"
      ],
      "execution_count": null,
      "outputs": []
    },
    {
      "cell_type": "markdown",
      "metadata": {
        "id": "JofoAye0ho9h"
      },
      "source": [
        "Очистка датасета от лишних данных и преобразование информации в правильный вид\r\n",
        "\r\n",
        "Clearing the dataset from unnecessary data and converting information into the correct form"
      ]
    },
    {
      "cell_type": "code",
      "metadata": {
        "id": "JNMmrjg5g50n"
      },
      "source": [
        "encoders = {\"sex\": lambda sex: {\"Male\": [0], \"Female\": [1]}.get(sex),\r\n",
        "            \"age\": lambda age: {\"Young\": [1, 0, 0], \"Adult\": [0, 1, 0], \"Old\": [0, 0, 1]}.get(age),\r\n",
        "            \"cough\": lambda cough: {\"No\": [0], \"Yes\": [1]}.get(cough),\r\n",
        "            \"body temperature\": lambda body_temperature: {\"No\": [0], \"Yes\": [1]}.get(body_temperature),\r\n",
        "            \"taste and smell\": lambda taste_and_smell: {\"No\": [0], \"Yes\": [1]}.get(taste_and_smell),\r\n",
        "            \"dead\": lambda dead: [dead]\r\n",
        "            }\r\n",
        "\r\n",
        "def dataframe_to_dict(df):\r\n",
        "    result = dict()\r\n",
        "    for column in df.columns:\r\n",
        "        values = data_spis[column].values\r\n",
        "        result[column] = values\r\n",
        "    return result\r\n",
        "\r\n",
        "def make_supervised(df):\r\n",
        "    raw_input_data = data_spis[input_names] # Кладём наши данные из csv файла во входную переменную\r\n",
        "    raw_output_data = data_spis[output_names] # Кладём наши данные из csv файла выходную переменную\r\n",
        "    return {\"inputs\": dataframe_to_dict(raw_input_data),\r\n",
        "            \"outputs\": dataframe_to_dict(raw_output_data)}\r\n",
        "\r\n",
        "def encode(data):\r\n",
        "    vectors = []\r\n",
        "    for data_name, data_values in data.items():\r\n",
        "        encoded = list(map(encoders[data_name], data_values))\r\n",
        "        vectors.append(encoded)\r\n",
        "    formatted = []\r\n",
        "    for vector_raw in list(zip(*vectors)):\r\n",
        "        vector = []\r\n",
        "        for element in vector_raw:\r\n",
        "            for e in element:\r\n",
        "                vector.append(e)\r\n",
        "        formatted.append(vector)\r\n",
        "\r\n",
        "    return formatted\r\n",
        "\r\n",
        "\r\n",
        "supervised = make_supervised(data_spis)\r\n",
        "encoded_inputs = np.array(encode(supervised[\"inputs\"]))\r\n",
        "encoded_outputs = np.array(encode(supervised[\"outputs\"]))"
      ],
      "execution_count": null,
      "outputs": []
    },
    {
      "cell_type": "markdown",
      "metadata": {
        "id": "ibEqVmi1iKD3"
      },
      "source": [
        "Разделение датасета для тренировки и для тестирования\r\n",
        "\r\n",
        "Dividing the dataset for training and testing"
      ]
    },
    {
      "cell_type": "code",
      "metadata": {
        "id": "lEV-JBg0uVXO"
      },
      "source": [
        "train_inputs = encoded_inputs[:250] # использовать для тренировки последние 250 входных чисел\r\n",
        "train_outputs = encoded_outputs[:250]\r\n",
        "\r\n",
        "test_inputs = encoded_inputs[250:]  # использовать для теста 250 входных чисел"
      ],
      "execution_count": 111,
      "outputs": []
    },
    {
      "cell_type": "markdown",
      "metadata": {
        "id": "bHBDlpjEiQaG"
      },
      "source": [
        "Настройка и тренировка нейросети на тренировочных данных\r\n",
        "\r\n",
        "Setting up and training a neural network on training data"
      ]
    },
    {
      "cell_type": "code",
      "metadata": {
        "id": "q_eNO7l-fO-C"
      },
      "source": [
        "model = k.Sequential() # инициализация нейросети\r\n",
        "model.add(k.layers.Dense(units=7, activation=\"relu\")) # первый слой, который 7 входных значений\r\n",
        "model.add(k.layers.Dense(units=1, activation=\"sigmoid\")) # выходной слой, sigmoid принимает значения от 0 до 1\r\n",
        "model.compile(loss=\"mse\", optimizer=\"sgd\", metrics=[\"accuracy\"])\r\n",
        "fit_results = model.fit(x=train_inputs, y=train_outputs, epochs=1000, validation_split=0.2) # n эпох для тренировочных входных и выходных чисел."
      ],
      "execution_count": null,
      "outputs": []
    },
    {
      "cell_type": "markdown",
      "metadata": {
        "id": "TmQjuvNDiT5V"
      },
      "source": [
        "Тестирование нейросети на тестовых данных\r\n",
        "\r\n",
        "Testing a neural network on test data"
      ]
    },
    {
      "cell_type": "code",
      "metadata": {
        "id": "dHEy7dv_fPRB"
      },
      "source": [
        "predicted_test = model.predict(test_inputs)\r\n",
        "real_data = data_spis.iloc[250:][input_names+output_names]\r\n",
        "real_data[\"dead\"] = predicted_test\r\n",
        "print(real_data)"
      ],
      "execution_count": null,
      "outputs": []
    }
  ]
}